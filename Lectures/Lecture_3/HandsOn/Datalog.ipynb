{
 "cells": [
  {
   "cell_type": "markdown",
   "metadata": {
    "deletable": true,
    "editable": true
   },
   "source": [
    "This notebook has a generic code to extract data from Postgres based on given datalog queries\n",
    "\n",
    "### IMPORTANT - JOIN Query has not been implemented. Students need to implement this."
   ]
  },
  {
   "cell_type": "code",
   "execution_count": 1,
   "metadata": {
    "collapsed": true,
    "deletable": true,
    "editable": true
   },
   "outputs": [],
   "source": [
    "import pandas as pd\n",
    "import psycopg2 as pg\n",
    "import types"
   ]
  },
  {
   "cell_type": "code",
   "execution_count": 2,
   "metadata": {
    "collapsed": false,
    "deletable": true,
    "editable": true
   },
   "outputs": [],
   "source": [
    "# Connect to an existing database\n",
    "connection = pg.connect(\"dbname=SQLBook user=postgres password=123456\")"
   ]
  },
  {
   "cell_type": "code",
   "execution_count": 4,
   "metadata": {
    "collapsed": true,
    "deletable": true,
    "editable": true
   },
   "outputs": [],
   "source": [
    "# Datalog queries\n",
    "datalog = \"Ans(numunits, firstname, billdate), orders.orderid > 1000, orders.numunits > 1\"\n",
    "q1 = \"orders(numunits, customerid, orderid)\"\n",
    "q2 = \"customers(firstname, customerid)\"\n",
    "q3 = \"orderlines(billdate, orderid)\""
   ]
  },
  {
   "cell_type": "code",
   "execution_count": 5,
   "metadata": {
    "collapsed": false,
    "deletable": true,
    "editable": true
   },
   "outputs": [
    {
     "data": {
      "text/plain": [
       "['numunits', 'firstname', 'billdate']"
      ]
     },
     "execution_count": 5,
     "metadata": {},
     "output_type": "execute_result"
    }
   ],
   "source": [
    "# Given a datalog query of form - \"Ans(numunits, firstname, billdate), orders.orderid > 1000, orders.numunits > 1\"\n",
    "# this method extracts the column names from it\n",
    "def getColumns(datalog):\n",
    "    return [col.strip() for col in datalog[(datalog.index(\"(\")+1): datalog.index(\")\")].split(\",\")]\n",
    "getColumns(datalog)"
   ]
  },
  {
   "cell_type": "code",
   "execution_count": 6,
   "metadata": {
    "collapsed": true,
    "deletable": true,
    "editable": true
   },
   "outputs": [],
   "source": [
    "# Given a datalog query of form - \"Ans(numunits, firstname, billdate), orders.orderid > 1000, orders.numunits > 1\"\n",
    "# this method extracts the where conditions from it\n",
    "def getWhereConditions(datalog):\n",
    "    rawString = datalog.split(\"),\")[1]\n",
    "    conds = [cond.strip() for cond in rawString.split(\",\")]\n",
    "    return conds"
   ]
  },
  {
   "cell_type": "code",
   "execution_count": 7,
   "metadata": {
    "collapsed": false,
    "deletable": true,
    "editable": true
   },
   "outputs": [
    {
     "name": "stdout",
     "output_type": "stream",
     "text": [
      "['orders.orderid > 1000', 'orders.numunits > 1']\n"
     ]
    }
   ],
   "source": [
    "conds = getWhereConditions(datalog)\n",
    "print (conds)"
   ]
  },
  {
   "cell_type": "code",
   "execution_count": 8,
   "metadata": {
    "collapsed": false,
    "deletable": true,
    "editable": true
   },
   "outputs": [
    {
     "data": {
      "text/plain": [
       "['Ans(numunits, firstname, billdate), orders.orderid > 1000, orders.numunits > 1',\n",
       " 'orders(numunits, customerid, orderid)',\n",
       " 'customers(firstname, customerid)',\n",
       " 'orderlines(billdate, orderid)',\n",
       " ['orders.orderid > 1000', 'orders.numunits > 1']]"
      ]
     },
     "execution_count": 8,
     "metadata": {},
     "output_type": "execute_result"
    }
   ],
   "source": [
    "q = [datalog, q1,q2,q3, conds] # Query Processing team to receive this from integrated schema team\n",
    "q"
   ]
  },
  {
   "cell_type": "code",
   "execution_count": 9,
   "metadata": {
    "collapsed": true,
    "deletable": true,
    "editable": true
   },
   "outputs": [],
   "source": [
    "# Given a result as a list, this method converts it to the expected format of\n",
    "# ['Ans(A,B,C)', 'Ans(a,b,c)']\n",
    "def prettyPrintResult(res):\n",
    "    result_list = []\n",
    "    for r in res:\n",
    "        current = \"Ans(\"\n",
    "        for ele in r:\n",
    "            current += str(ele) + \",\"\n",
    "        current = current[:-1] \n",
    "        current += \")\"\n",
    "        result_list.append(current)\n",
    "    return result_list"
   ]
  },
  {
   "cell_type": "code",
   "execution_count": 9,
   "metadata": {
    "collapsed": false,
    "deletable": true,
    "editable": true
   },
   "outputs": [],
   "source": [
    "def getWhereConditionForSelectQuery(conds):\n",
    "    if not conds or len(conds) == 0:\n",
    "        return\n",
    "    where_condition = \"\" + conds[0]\n",
    "    if len(conds) == 1:\n",
    "        return where_condition\n",
    "    for cond in conds[1:]:\n",
    "        where_condition += \" AND \" + cond + \" \"\n",
    "    return where_condition[:-1]\n",
    "\n",
    "def getFullyQualifiedColumnNames(q):\n",
    "    col_names = {}\n",
    "    for val in q:\n",
    "        table_name = val[:val.index(\"(\")]\n",
    "        columns = getColumns(val)\n",
    "        for col in columns:\n",
    "            if col in col_names:\n",
    "                table = col_names.get(col)\n",
    "                table += \";\"+table_name\n",
    "                col_names[col] = table\n",
    "            else:\n",
    "                col_names[col] = table_name\n",
    "    return col_names\n",
    "\n",
    "def getQueryColsFromFQCols(column_names, cols_to_return):\n",
    "    return_str = \"\"\n",
    "    for col in cols_to_return:\n",
    "        if col in column_names:\n",
    "            table_name = column_names[col]\n",
    "            if table_name.find(\";\") == -1:\n",
    "                return_str += table_name + \".\" + col + \", \"\n",
    "        else:\n",
    "            raise Exception('Oh. Something bad happened!')\n",
    "    return return_str[:-2]\n",
    "\n",
    "def getTableNames(q):\n",
    "    return [i[:i.index(\"(\")].strip() for i in q]\n",
    "\n",
    "def getQueryTableNames(table_names):\n",
    "    return_str = \"\"\n",
    "    for table_name in table_names:\n",
    "        return_str += table_name + \", \"\n",
    "    return return_str[:-2]\n",
    "\n",
    "def getJoinConditions(column_names):\n",
    "    return_str = \"\"\n",
    "    for col in column_names:\n",
    "        if column_names[col].find(\";\") != -1:\n",
    "            tables = column_names[col].split(\";\")\n",
    "            base_str = tables[0].strip() + \".\" + col + \"=\"\n",
    "            for table in tables[1:]:\n",
    "                return_str += (base_str + table.strip() + \".\" + col + \" AND \")\n",
    "    return return_str[:-5]\n",
    "\n",
    "def buildSelectQuery(q):\n",
    "    datalog = q[0]                               #\"Ans(numunits, firstname, billdate), orderid > x, numunits > 1\"\n",
    "    cols_to_return = getColumns(datalog)         #numunits, firstname, billdate\n",
    "    q = q[1:]                                    #everything except datalog\n",
    "    \n",
    "    conds   = [i for i in q if isinstance(i, list)]\n",
    "    # conds includes the following:\n",
    "    # [['orders.orderid > 1000', 'orders.numunits > 1']]\n",
    "    \n",
    "    selects = [i for i in q if not isinstance(i, list)]\n",
    "    # selects includes the following:\n",
    "    # 'orders(numunits, customerid, orderid)',\n",
    "    #'customers(firstname, customerid)',\n",
    "    # 'orderlines(billdate, orderid)'\n",
    "    \n",
    "    column_names = getFullyQualifiedColumnNames(selects) # Dictionary of {numunits:orders, customerid:orders;customers} etc.\n",
    "    table_names = getTableNames(selects) # [orders, customers, orderlines]\n",
    "    \n",
    "    return \"SELECT \" + getQueryColsFromFQCols(column_names, cols_to_return) + \\\n",
    "           \" FROM \" + getQueryTableNames(table_names) + \\\n",
    "           \" WHERE \" + getJoinConditions(column_names) + \\\n",
    "           \" AND \" + getWhereConditionForSelectQuery(conds[0]) + \" LIMIT 10;\""
   ]
  },
  {
   "cell_type": "code",
   "execution_count": 12,
   "metadata": {
    "collapsed": true,
    "deletable": true,
    "editable": true
   },
   "outputs": [],
   "source": [
    "def getDatalogResult(q):\n",
    "    cur = connection.cursor()\n",
    "    select_query = buildSelectQuery(q)\n",
    "    print (select_query)\n",
    "    print ()\n",
    "    cur.execute(select_query)\n",
    "    res = cur.fetchall()\n",
    "    return prettyPrintResult(res)"
   ]
  },
  {
   "cell_type": "code",
   "execution_count": 13,
   "metadata": {
    "collapsed": false,
    "deletable": true,
    "editable": true
   },
   "outputs": [
    {
     "name": "stdout",
     "output_type": "stream",
     "text": [
      "SELECT orders.numunits, customers.firstname, orderlines.billdate FROM orders, customers, orderlines WHERE orders.orderid=orderlines.orderid AND orders.customerid=customers.customerid AND orders.orderid > 1000 AND orders.numunits > 1 LIMIT 10;\n",
      "\n",
      "['Ans(2,LAWRENCE,2011-03-08)', 'Ans(2,JAMES,2011-01-20)', 'Ans(4,LINDA,2009-11-12)', 'Ans(4,LINDA,2009-11-20)', 'Ans(2,D.,2009-11-11)', 'Ans(2,D.,2009-11-20)', 'Ans(3,CHARLES,2009-11-10)', 'Ans(2,HEATHER,2010-12-10)', 'Ans(2,HEATHER,2010-12-19)', 'Ans(3,FRANK,2010-12-16)']\n"
     ]
    }
   ],
   "source": [
    "print (getDatalogResult(q))"
   ]
  },
  {
   "cell_type": "markdown",
   "metadata": {
    "collapsed": true,
    "deletable": true,
    "editable": true
   },
   "source": [
    "## Solr"
   ]
  },
  {
   "cell_type": "markdown",
   "metadata": {
    "collapsed": true,
    "deletable": true,
    "editable": true
   },
   "source": [
    "We need to specify the URL and make a REST call. "
   ]
  },
  {
   "cell_type": "markdown",
   "metadata": {},
   "source": [
    "To get results having both iPod and camera, the URL is \n",
    "http://localhost:8983/solr/techproducts/select?q=iPod,camera"
   ]
  },
  {
   "cell_type": "code",
   "execution_count": 2,
   "metadata": {
    "collapsed": false
   },
   "outputs": [
    {
     "name": "stdout",
     "output_type": "stream",
     "text": [
      "http://localhost:8983/solr/techproducts/select?q=iPod,camera\n"
     ]
    }
   ],
   "source": [
    "hostname = \"localhost\"\n",
    "port_num = 8983\n",
    "core_name = \"techproducts\"\n",
    "q = [\"iPod\", \"camera\"]\n",
    "query = \",\".join(q)\n",
    "urlToHit = \"http://\" + hostname + \":\" + str(port_num) + \"/solr/\" + core_name + \"/select?q=\" + query\n",
    "print (urlToHit)"
   ]
  },
  {
   "cell_type": "code",
   "execution_count": 4,
   "metadata": {
    "collapsed": false
   },
   "outputs": [
    {
     "data": {
      "text/plain": [
       "b'{\\n  \"responseHeader\":{\\n    \"status\":0,\\n    \"QTime\":1,\\n    \"params\":{\\n      \"q\":\"iPod,camera\"}},\\n  \"response\":{\"numFound\":4,\"start\":0,\"docs\":[\\n      {\\n        \"id\":\"IW-02\",\\n        \"name\":\"iPod & iPod Mini USB 2.0 Cable\",\\n        \"manu\":\"Belkin\",\\n        \"manu_id_s\":\"belkin\",\\n        \"cat\":[\"electronics\",\\n          \"connector\"],\\n        \"features\":[\"car power adapter for iPod, white\"],\\n        \"weight\":2.0,\\n        \"price\":11.5,\\n        \"price_c\":\"11.50,USD\",\\n        \"popularity\":1,\\n        \"inStock\":false,\\n        \"store\":\"37.7752,-122.4232\",\\n        \"manufacturedate_dt\":\"2006-02-14T23:55:59Z\",\\n        \"_version_\":1579918865625776128,\\n        \"price_c____l_ns\":1150},\\n      {\\n        \"id\":\"9885A004\",\\n        \"name\":\"Canon PowerShot SD500\",\\n        \"manu\":\"Canon Inc.\",\\n        \"manu_id_s\":\"canon\",\\n        \"cat\":[\"electronics\",\\n          \"camera\"],\\n        \"features\":[\"3x zoop, 7.1 megapixel Digital ELPH\",\\n          \"movie clips up to 640x480 @30 fps\",\\n          \"2.0\\\\\" TFT LCD, 118,000 pixels\",\\n          \"built in flash, red-eye reduction\"],\\n        \"includes\":\"32MB SD card, USB cable, AV cable, battery\",\\n        \"weight\":6.4,\\n        \"price\":329.95,\\n        \"price_c\":\"329.95,USD\",\\n        \"popularity\":7,\\n        \"inStock\":true,\\n        \"manufacturedate_dt\":\"2006-02-13T15:26:37Z\",\\n        \"store\":\"45.19614,-93.90341\",\\n        \"_version_\":1579918865745313792,\\n        \"price_c____l_ns\":32995},\\n      {\\n        \"id\":\"F8V7067-APL-KIT\",\\n        \"name\":\"Belkin Mobile Power Cord for iPod w/ Dock\",\\n        \"manu\":\"Belkin\",\\n        \"manu_id_s\":\"belkin\",\\n        \"cat\":[\"electronics\",\\n          \"connector\"],\\n        \"features\":[\"car power adapter, white\"],\\n        \"weight\":4.0,\\n        \"price\":19.95,\\n        \"price_c\":\"19.95,USD\",\\n        \"popularity\":1,\\n        \"inStock\":false,\\n        \"store\":\"45.18014,-93.87741\",\\n        \"manufacturedate_dt\":\"2005-08-01T16:30:25Z\",\\n        \"_version_\":1579918865621581824,\\n        \"price_c____l_ns\":1995},\\n      {\\n        \"id\":\"MA147LL/A\",\\n        \"name\":\"Apple 60 GB iPod with Video Playback Black\",\\n        \"manu\":\"Apple Computer Inc.\",\\n        \"manu_id_s\":\"apple\",\\n        \"cat\":[\"electronics\",\\n          \"music\"],\\n        \"features\":[\"iTunes, Podcasts, Audiobooks\",\\n          \"Stores up to 15,000 songs, 25,000 photos, or 150 hours of video\",\\n          \"2.5-inch, 320x240 color TFT LCD display with LED backlight\",\\n          \"Up to 20 hours of battery life\",\\n          \"Plays AAC, MP3, WAV, AIFF, Audible, Apple Lossless, H.264 video\",\\n          \"Notes, Calendar, Phone book, Hold button, Date display, Photo wallet, Built-in games, JPEG photo playback, Upgradeable firmware, USB 2.0 compatibility, Playback speed control, Rechargeable capability, Battery level indication\"],\\n        \"includes\":\"earbud headphones, USB cable\",\\n        \"weight\":5.5,\\n        \"price\":399.0,\\n        \"price_c\":\"399.00,USD\",\\n        \"popularity\":10,\\n        \"inStock\":true,\\n        \"store\":\"37.7752,-100.0232\",\\n        \"manufacturedate_dt\":\"2005-10-12T08:00:00Z\",\\n        \"_version_\":1579918865638359040,\\n        \"price_c____l_ns\":39900}]\\n  }}\\n'"
      ]
     },
     "execution_count": 4,
     "metadata": {},
     "output_type": "execute_result"
    }
   ],
   "source": [
    "import urllib.request as request\n",
    "\n",
    "req = request.Request(urlToHit)\n",
    "result = request.urlopen(req)\n",
    "resulttext = result.read()\n",
    "resulttext"
   ]
  },
  {
   "cell_type": "code",
   "execution_count": null,
   "metadata": {
    "collapsed": true
   },
   "outputs": [],
   "source": []
  }
 ],
 "metadata": {
  "anaconda-cloud": {},
  "kernelspec": {
   "display_name": "Python [default]",
   "language": "python",
   "name": "python3"
  },
  "language_info": {
   "codemirror_mode": {
    "name": "ipython",
    "version": 3
   },
   "file_extension": ".py",
   "mimetype": "text/x-python",
   "name": "python",
   "nbconvert_exporter": "python",
   "pygments_lexer": "ipython3",
   "version": "3.5.3"
  }
 },
 "nbformat": 4,
 "nbformat_minor": 2
}
