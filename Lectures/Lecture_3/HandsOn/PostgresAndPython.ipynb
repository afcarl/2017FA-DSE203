{
 "cells": [
  {
   "cell_type": "markdown",
   "metadata": {},
   "source": [
    "This notebook gives an overview of various methods using which one can connect to PostgresDB using Python"
   ]
  },
  {
   "cell_type": "markdown",
   "metadata": {},
   "source": [
    "We will be using Psycopg2 and Pandasql for this"
   ]
  },
  {
   "cell_type": "code",
   "execution_count": 2,
   "metadata": {
    "collapsed": true,
    "deletable": true,
    "editable": true
   },
   "outputs": [],
   "source": [
    "import pandas as pd\n",
    "import psycopg2 as pg #conda install psycopg2"
   ]
  },
  {
   "cell_type": "code",
   "execution_count": 3,
   "metadata": {
    "collapsed": false,
    "deletable": true,
    "editable": true
   },
   "outputs": [],
   "source": [
    "import pandasql as pdsql #conda install pandasql\n",
    "pysql = lambda q: pdsql.sqldf(q, globals())\n",
    "# globals() returns a dictionary representing the current global namespace."
   ]
  },
  {
   "cell_type": "code",
   "execution_count": 4,
   "metadata": {
    "collapsed": false,
    "deletable": true,
    "editable": true
   },
   "outputs": [],
   "source": [
    "# Connect to an existing database\n",
    "connection = pg.connect(\"dbname=SQLBook user=postgres password=123456\")"
   ]
  },
  {
   "cell_type": "code",
   "execution_count": 5,
   "metadata": {
    "collapsed": true,
    "deletable": true,
    "editable": true
   },
   "outputs": [],
   "source": [
    "query = '''\n",
    "SELECT cust.*, ord.totalprice\n",
    "FROM customers cust JOIN orders ord\n",
    "    ON cust.customerid = ord.customerid\n",
    "ORDER BY ord.totalprice DESC\n",
    "LIMIT 10'''"
   ]
  },
  {
   "cell_type": "code",
   "execution_count": 6,
   "metadata": {
    "collapsed": false,
    "deletable": true,
    "editable": true
   },
   "outputs": [
    {
     "data": {
      "text/html": [
       "<div>\n",
       "<style>\n",
       "    .dataframe thead tr:only-child th {\n",
       "        text-align: right;\n",
       "    }\n",
       "\n",
       "    .dataframe thead th {\n",
       "        text-align: left;\n",
       "    }\n",
       "\n",
       "    .dataframe tbody tr th {\n",
       "        vertical-align: top;\n",
       "    }\n",
       "</style>\n",
       "<table border=\"1\" class=\"dataframe\">\n",
       "  <thead>\n",
       "    <tr style=\"text-align: right;\">\n",
       "      <th></th>\n",
       "      <th>customerid</th>\n",
       "      <th>householdid</th>\n",
       "      <th>gender</th>\n",
       "      <th>firstname</th>\n",
       "      <th>totalprice</th>\n",
       "    </tr>\n",
       "  </thead>\n",
       "  <tbody>\n",
       "    <tr>\n",
       "      <th>0</th>\n",
       "      <td>146401</td>\n",
       "      <td>18442778</td>\n",
       "      <td>M</td>\n",
       "      <td>JOHN</td>\n",
       "      <td>$9,848.96</td>\n",
       "    </tr>\n",
       "    <tr>\n",
       "      <th>1</th>\n",
       "      <td>184224</td>\n",
       "      <td>57035861</td>\n",
       "      <td>M</td>\n",
       "      <td>JAMES</td>\n",
       "      <td>$9,436.59</td>\n",
       "    </tr>\n",
       "    <tr>\n",
       "      <th>2</th>\n",
       "      <td>18818</td>\n",
       "      <td>19304387</td>\n",
       "      <td>F</td>\n",
       "      <td>CAROL</td>\n",
       "      <td>$9,137.09</td>\n",
       "    </tr>\n",
       "    <tr>\n",
       "      <th>3</th>\n",
       "      <td>165771</td>\n",
       "      <td>51035891</td>\n",
       "      <td>M</td>\n",
       "      <td>JOHN</td>\n",
       "      <td>$8,830.00</td>\n",
       "    </tr>\n",
       "    <tr>\n",
       "      <th>4</th>\n",
       "      <td>140377</td>\n",
       "      <td>45334058</td>\n",
       "      <td>M</td>\n",
       "      <td>SCOTT</td>\n",
       "      <td>$6,920.32</td>\n",
       "    </tr>\n",
       "    <tr>\n",
       "      <th>5</th>\n",
       "      <td>128435</td>\n",
       "      <td>36213508</td>\n",
       "      <td>M</td>\n",
       "      <td>ANTHONY</td>\n",
       "      <td>$6,920.00</td>\n",
       "    </tr>\n",
       "    <tr>\n",
       "      <th>6</th>\n",
       "      <td>72141</td>\n",
       "      <td>36213550</td>\n",
       "      <td>F</td>\n",
       "      <td>HOLLY</td>\n",
       "      <td>$6,780.00</td>\n",
       "    </tr>\n",
       "    <tr>\n",
       "      <th>7</th>\n",
       "      <td>186835</td>\n",
       "      <td>57750341</td>\n",
       "      <td>M</td>\n",
       "      <td>CHRISTOPH</td>\n",
       "      <td>$6,685.00</td>\n",
       "    </tr>\n",
       "    <tr>\n",
       "      <th>8</th>\n",
       "      <td>145718</td>\n",
       "      <td>48765412</td>\n",
       "      <td>F</td>\n",
       "      <td>LEAR</td>\n",
       "      <td>$6,625.00</td>\n",
       "    </tr>\n",
       "    <tr>\n",
       "      <th>9</th>\n",
       "      <td>88800</td>\n",
       "      <td>36188157</td>\n",
       "      <td>M</td>\n",
       "      <td>JEFFREY</td>\n",
       "      <td>$6,606.00</td>\n",
       "    </tr>\n",
       "  </tbody>\n",
       "</table>\n",
       "</div>"
      ],
      "text/plain": [
       "   customerid  householdid gender  firstname totalprice\n",
       "0      146401     18442778      M       JOHN  $9,848.96\n",
       "1      184224     57035861      M      JAMES  $9,436.59\n",
       "2       18818     19304387      F      CAROL  $9,137.09\n",
       "3      165771     51035891      M       JOHN  $8,830.00\n",
       "4      140377     45334058      M      SCOTT  $6,920.32\n",
       "5      128435     36213508      M    ANTHONY  $6,920.00\n",
       "6       72141     36213550      F      HOLLY  $6,780.00\n",
       "7      186835     57750341      M  CHRISTOPH  $6,685.00\n",
       "8      145718     48765412      F       LEAR  $6,625.00\n",
       "9       88800     36188157      M    JEFFREY  $6,606.00"
      ]
     },
     "execution_count": 6,
     "metadata": {},
     "output_type": "execute_result"
    }
   ],
   "source": [
    "# First method\n",
    "df=pd.read_sql(query, con=connection)\n",
    "df.head(10)"
   ]
  },
  {
   "cell_type": "code",
   "execution_count": 7,
   "metadata": {
    "collapsed": false,
    "deletable": true,
    "editable": true
   },
   "outputs": [
    {
     "data": {
      "text/html": [
       "<div>\n",
       "<style>\n",
       "    .dataframe thead tr:only-child th {\n",
       "        text-align: right;\n",
       "    }\n",
       "\n",
       "    .dataframe thead th {\n",
       "        text-align: left;\n",
       "    }\n",
       "\n",
       "    .dataframe tbody tr th {\n",
       "        vertical-align: top;\n",
       "    }\n",
       "</style>\n",
       "<table border=\"1\" class=\"dataframe\">\n",
       "  <thead>\n",
       "    <tr style=\"text-align: right;\">\n",
       "      <th></th>\n",
       "      <th>orderid</th>\n",
       "      <th>customerid</th>\n",
       "      <th>campaignid</th>\n",
       "      <th>orderdate</th>\n",
       "      <th>city</th>\n",
       "      <th>state</th>\n",
       "      <th>zipcode</th>\n",
       "      <th>paymenttype</th>\n",
       "      <th>totalprice</th>\n",
       "      <th>numorderlines</th>\n",
       "      <th>numunits</th>\n",
       "    </tr>\n",
       "  </thead>\n",
       "  <tbody>\n",
       "    <tr>\n",
       "      <th>0</th>\n",
       "      <td>1002854</td>\n",
       "      <td>45978</td>\n",
       "      <td>2141</td>\n",
       "      <td>2009-10-13</td>\n",
       "      <td>NEWTON</td>\n",
       "      <td>MA</td>\n",
       "      <td>02459</td>\n",
       "      <td>VI</td>\n",
       "      <td>$190.00</td>\n",
       "      <td>3</td>\n",
       "      <td>3</td>\n",
       "    </tr>\n",
       "    <tr>\n",
       "      <th>1</th>\n",
       "      <td>1002855</td>\n",
       "      <td>125381</td>\n",
       "      <td>2173</td>\n",
       "      <td>2009-10-13</td>\n",
       "      <td>NEW ROCHELLE</td>\n",
       "      <td>NY</td>\n",
       "      <td>10804</td>\n",
       "      <td>VI</td>\n",
       "      <td>$10.00</td>\n",
       "      <td>1</td>\n",
       "      <td>1</td>\n",
       "    </tr>\n",
       "    <tr>\n",
       "      <th>2</th>\n",
       "      <td>1002856</td>\n",
       "      <td>103122</td>\n",
       "      <td>2141</td>\n",
       "      <td>2011-06-02</td>\n",
       "      <td>MIAMI</td>\n",
       "      <td>FL</td>\n",
       "      <td>33137</td>\n",
       "      <td>AE</td>\n",
       "      <td>$35.22</td>\n",
       "      <td>2</td>\n",
       "      <td>2</td>\n",
       "    </tr>\n",
       "    <tr>\n",
       "      <th>3</th>\n",
       "      <td>1002857</td>\n",
       "      <td>130980</td>\n",
       "      <td>2173</td>\n",
       "      <td>2009-10-14</td>\n",
       "      <td>E RUTHERFORD</td>\n",
       "      <td>NJ</td>\n",
       "      <td>07073</td>\n",
       "      <td>AE</td>\n",
       "      <td>$10.00</td>\n",
       "      <td>1</td>\n",
       "      <td>1</td>\n",
       "    </tr>\n",
       "    <tr>\n",
       "      <th>4</th>\n",
       "      <td>1002886</td>\n",
       "      <td>48553</td>\n",
       "      <td>2141</td>\n",
       "      <td>2010-11-19</td>\n",
       "      <td>BALTIMORE</td>\n",
       "      <td>MD</td>\n",
       "      <td>21218</td>\n",
       "      <td>VI</td>\n",
       "      <td>$10.00</td>\n",
       "      <td>1</td>\n",
       "      <td>1</td>\n",
       "    </tr>\n",
       "  </tbody>\n",
       "</table>\n",
       "</div>"
      ],
      "text/plain": [
       "   orderid  customerid  campaignid   orderdate          city state zipcode  \\\n",
       "0  1002854       45978        2141  2009-10-13        NEWTON    MA   02459   \n",
       "1  1002855      125381        2173  2009-10-13  NEW ROCHELLE    NY   10804   \n",
       "2  1002856      103122        2141  2011-06-02         MIAMI    FL   33137   \n",
       "3  1002857      130980        2173  2009-10-14  E RUTHERFORD    NJ   07073   \n",
       "4  1002886       48553        2141  2010-11-19     BALTIMORE    MD   21218   \n",
       "\n",
       "  paymenttype totalprice  numorderlines  numunits  \n",
       "0          VI    $190.00              3         3  \n",
       "1          VI     $10.00              1         1  \n",
       "2          AE     $35.22              2         2  \n",
       "3          AE     $10.00              1         1  \n",
       "4          VI     $10.00              1         1  "
      ]
     },
     "execution_count": 7,
     "metadata": {},
     "output_type": "execute_result"
    }
   ],
   "source": [
    "# Second method\n",
    "ord_df=pd.read_sql_query('select * from orders',con=connection)\n",
    "ord_df.head()"
   ]
  },
  {
   "cell_type": "code",
   "execution_count": 8,
   "metadata": {
    "collapsed": false,
    "deletable": true,
    "editable": true
   },
   "outputs": [],
   "source": [
    "# Third method\n",
    "# Open a cursor to perform database operations\n",
    "cur = connection.cursor()\n",
    "\n",
    "# Allows Python code to execute PostgreSQL command in a database session. \n",
    "# Cursors are bound to the connection for the entire lifetime and all the \n",
    "# commands are executed in the context of the database session wrapped by the connection."
   ]
  },
  {
   "cell_type": "code",
   "execution_count": 9,
   "metadata": {
    "collapsed": true,
    "deletable": true,
    "editable": true
   },
   "outputs": [],
   "source": [
    "# Query the database and obtain data as Python objects\n",
    "cur.execute(\"SELECT * FROM customers LIMIT 10;\")"
   ]
  },
  {
   "cell_type": "code",
   "execution_count": 10,
   "metadata": {
    "collapsed": true,
    "deletable": true,
    "editable": true
   },
   "outputs": [],
   "source": [
    "res = cur.fetchall()"
   ]
  },
  {
   "cell_type": "code",
   "execution_count": 11,
   "metadata": {
    "collapsed": false,
    "deletable": true,
    "editable": true
   },
   "outputs": [
    {
     "name": "stdout",
     "output_type": "stream",
     "text": [
      "<class 'list'>\n"
     ]
    }
   ],
   "source": [
    "print (type(res))"
   ]
  },
  {
   "cell_type": "code",
   "execution_count": 12,
   "metadata": {
    "collapsed": false,
    "deletable": true,
    "editable": true
   },
   "outputs": [
    {
     "name": "stdout",
     "output_type": "stream",
     "text": [
      "[(174596, 53949999, 'M', 'DANIEL'), (68239, 49927024, 'M', 'JIM'), (10203, 20914414, 'F', 'DONNA'), (174288, 53957047, 'F', 'DIONE'), (68099, 49927024, 'M', 'JIM'), (174257, 53949983, 'F', 'TRISHA'), (173506, 53476818, 'M', 'DANTE'), (51886, 20359142, 'F', 'ANTHONY'), (143249, 20287377, 'F', 'NANCY'), (174650, 53958894, 'M', 'GREG')]\n"
     ]
    }
   ],
   "source": [
    "print (res)"
   ]
  },
  {
   "cell_type": "code",
   "execution_count": 13,
   "metadata": {
    "collapsed": true,
    "deletable": true,
    "editable": true
   },
   "outputs": [],
   "source": [
    "df = pd.DataFrame(res)"
   ]
  },
  {
   "cell_type": "code",
   "execution_count": 15,
   "metadata": {
    "collapsed": false,
    "deletable": true,
    "editable": true
   },
   "outputs": [
    {
     "data": {
      "text/html": [
       "<div>\n",
       "<style>\n",
       "    .dataframe thead tr:only-child th {\n",
       "        text-align: right;\n",
       "    }\n",
       "\n",
       "    .dataframe thead th {\n",
       "        text-align: left;\n",
       "    }\n",
       "\n",
       "    .dataframe tbody tr th {\n",
       "        vertical-align: top;\n",
       "    }\n",
       "</style>\n",
       "<table border=\"1\" class=\"dataframe\">\n",
       "  <thead>\n",
       "    <tr style=\"text-align: right;\">\n",
       "      <th></th>\n",
       "      <th>0</th>\n",
       "      <th>1</th>\n",
       "      <th>2</th>\n",
       "      <th>3</th>\n",
       "    </tr>\n",
       "  </thead>\n",
       "  <tbody>\n",
       "    <tr>\n",
       "      <th>0</th>\n",
       "      <td>174596</td>\n",
       "      <td>53949999</td>\n",
       "      <td>M</td>\n",
       "      <td>DANIEL</td>\n",
       "    </tr>\n",
       "    <tr>\n",
       "      <th>1</th>\n",
       "      <td>68239</td>\n",
       "      <td>49927024</td>\n",
       "      <td>M</td>\n",
       "      <td>JIM</td>\n",
       "    </tr>\n",
       "    <tr>\n",
       "      <th>2</th>\n",
       "      <td>10203</td>\n",
       "      <td>20914414</td>\n",
       "      <td>F</td>\n",
       "      <td>DONNA</td>\n",
       "    </tr>\n",
       "    <tr>\n",
       "      <th>3</th>\n",
       "      <td>174288</td>\n",
       "      <td>53957047</td>\n",
       "      <td>F</td>\n",
       "      <td>DIONE</td>\n",
       "    </tr>\n",
       "    <tr>\n",
       "      <th>4</th>\n",
       "      <td>68099</td>\n",
       "      <td>49927024</td>\n",
       "      <td>M</td>\n",
       "      <td>JIM</td>\n",
       "    </tr>\n",
       "  </tbody>\n",
       "</table>\n",
       "</div>"
      ],
      "text/plain": [
       "        0         1  2       3\n",
       "0  174596  53949999  M  DANIEL\n",
       "1   68239  49927024  M     JIM\n",
       "2   10203  20914414  F   DONNA\n",
       "3  174288  53957047  F   DIONE\n",
       "4   68099  49927024  M     JIM"
      ]
     },
     "execution_count": 15,
     "metadata": {},
     "output_type": "execute_result"
    }
   ],
   "source": [
    "df.head()"
   ]
  },
  {
   "cell_type": "code",
   "execution_count": null,
   "metadata": {
    "collapsed": true,
    "deletable": true,
    "editable": true
   },
   "outputs": [],
   "source": []
  }
 ],
 "metadata": {
  "anaconda-cloud": {},
  "kernelspec": {
   "display_name": "Python [default]",
   "language": "python",
   "name": "python3"
  },
  "language_info": {
   "codemirror_mode": {
    "name": "ipython",
    "version": 3
   },
   "file_extension": ".py",
   "mimetype": "text/x-python",
   "name": "python",
   "nbconvert_exporter": "python",
   "pygments_lexer": "ipython3",
   "version": "3.5.3"
  }
 },
 "nbformat": 4,
 "nbformat_minor": 2
}
